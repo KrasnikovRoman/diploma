{
 "cells": [
  {
   "cell_type": "code",
   "execution_count": 1,
   "metadata": {},
   "outputs": [],
   "source": [
    "import numpy as np \n",
    "import os\n",
    "import pandas as pd\n",
    "%matplotlib inline"
   ]
  },
  {
   "cell_type": "code",
   "execution_count": 14,
   "metadata": {},
   "outputs": [],
   "source": [
    "cone_data = pd.read_csv('cone.csv', delimiter=r\"\\s+\")"
   ]
  },
  {
   "cell_type": "code",
   "execution_count": 15,
   "metadata": {},
   "outputs": [],
   "source": [
    "cone_data = cone_data.drop(columns=['arg'])"
   ]
  },
  {
   "cell_type": "code",
   "execution_count": 16,
   "metadata": {},
   "outputs": [
    {
     "data": {
      "text/html": [
       "<div>\n",
       "<style scoped>\n",
       "    .dataframe tbody tr th:only-of-type {\n",
       "        vertical-align: middle;\n",
       "    }\n",
       "\n",
       "    .dataframe tbody tr th {\n",
       "        vertical-align: top;\n",
       "    }\n",
       "\n",
       "    .dataframe thead th {\n",
       "        text-align: right;\n",
       "    }\n",
       "</style>\n",
       "<table border=\"1\" class=\"dataframe\">\n",
       "  <thead>\n",
       "    <tr style=\"text-align: right;\">\n",
       "      <th></th>\n",
       "      <th>HH.Re</th>\n",
       "      <th>HH.Im</th>\n",
       "      <th>HV.Re</th>\n",
       "      <th>HV.Im</th>\n",
       "      <th>VH.Re</th>\n",
       "      <th>VH.Im</th>\n",
       "      <th>VV.Re</th>\n",
       "      <th>VV.Im</th>\n",
       "    </tr>\n",
       "  </thead>\n",
       "  <tbody>\n",
       "    <tr>\n",
       "      <th>0</th>\n",
       "      <td>0.956940</td>\n",
       "      <td>0.185970</td>\n",
       "      <td>0.033606</td>\n",
       "      <td>-0.024850</td>\n",
       "      <td>-0.03361</td>\n",
       "      <td>0.024850</td>\n",
       "      <td>-0.99575</td>\n",
       "      <td>-0.15728</td>\n",
       "    </tr>\n",
       "    <tr>\n",
       "      <th>1</th>\n",
       "      <td>0.877020</td>\n",
       "      <td>0.261629</td>\n",
       "      <td>0.040545</td>\n",
       "      <td>-0.015380</td>\n",
       "      <td>-0.04055</td>\n",
       "      <td>0.015376</td>\n",
       "      <td>-0.91998</td>\n",
       "      <td>-0.24330</td>\n",
       "    </tr>\n",
       "    <tr>\n",
       "      <th>2</th>\n",
       "      <td>0.783459</td>\n",
       "      <td>0.324072</td>\n",
       "      <td>0.044947</td>\n",
       "      <td>-0.004260</td>\n",
       "      <td>-0.04495</td>\n",
       "      <td>0.004258</td>\n",
       "      <td>-0.82781</td>\n",
       "      <td>-0.31676</td>\n",
       "    </tr>\n",
       "    <tr>\n",
       "      <th>3</th>\n",
       "      <td>0.681292</td>\n",
       "      <td>0.372362</td>\n",
       "      <td>0.043603</td>\n",
       "      <td>0.005807</td>\n",
       "      <td>-0.04360</td>\n",
       "      <td>-0.005810</td>\n",
       "      <td>-0.72802</td>\n",
       "      <td>-0.37866</td>\n",
       "    </tr>\n",
       "    <tr>\n",
       "      <th>4</th>\n",
       "      <td>0.571329</td>\n",
       "      <td>0.403099</td>\n",
       "      <td>0.042011</td>\n",
       "      <td>0.018000</td>\n",
       "      <td>-0.04201</td>\n",
       "      <td>-0.018000</td>\n",
       "      <td>-0.61354</td>\n",
       "      <td>-0.41926</td>\n",
       "    </tr>\n",
       "  </tbody>\n",
       "</table>\n",
       "</div>"
      ],
      "text/plain": [
       "      HH.Re     HH.Im     HV.Re     HV.Im    VH.Re     VH.Im    VV.Re    VV.Im\n",
       "0  0.956940  0.185970  0.033606 -0.024850 -0.03361  0.024850 -0.99575 -0.15728\n",
       "1  0.877020  0.261629  0.040545 -0.015380 -0.04055  0.015376 -0.91998 -0.24330\n",
       "2  0.783459  0.324072  0.044947 -0.004260 -0.04495  0.004258 -0.82781 -0.31676\n",
       "3  0.681292  0.372362  0.043603  0.005807 -0.04360 -0.005810 -0.72802 -0.37866\n",
       "4  0.571329  0.403099  0.042011  0.018000 -0.04201 -0.018000 -0.61354 -0.41926"
      ]
     },
     "execution_count": 16,
     "metadata": {},
     "output_type": "execute_result"
    }
   ],
   "source": [
    "cone_data.head()"
   ]
  },
  {
   "cell_type": "code",
   "execution_count": null,
   "metadata": {},
   "outputs": [],
   "source": []
  }
 ],
 "metadata": {
  "kernelspec": {
   "display_name": "Python 3",
   "language": "python",
   "name": "python3"
  },
  "language_info": {
   "codemirror_mode": {
    "name": "ipython",
    "version": 3
   },
   "file_extension": ".py",
   "mimetype": "text/x-python",
   "name": "python",
   "nbconvert_exporter": "python",
   "pygments_lexer": "ipython3",
   "version": "3.6.5"
  }
 },
 "nbformat": 4,
 "nbformat_minor": 2
}
