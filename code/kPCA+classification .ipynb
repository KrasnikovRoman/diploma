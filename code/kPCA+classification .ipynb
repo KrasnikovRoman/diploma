{
 "cells": [
  {
   "cell_type": "code",
   "execution_count": 1,
   "metadata": {},
   "outputs": [],
   "source": [
    "import numpy as np \n",
    "import os\n",
    "import pandas as pd\n",
    "import matplotlib.pyplot as plt\n",
    "from mpl_toolkits.mplot3d import Axes3D\n",
    "%matplotlib inline"
   ]
  },
  {
   "cell_type": "code",
   "execution_count": 2,
   "metadata": {},
   "outputs": [
    {
     "data": {
      "text/html": [
       "<div>\n",
       "<style scoped>\n",
       "    .dataframe tbody tr th:only-of-type {\n",
       "        vertical-align: middle;\n",
       "    }\n",
       "\n",
       "    .dataframe tbody tr th {\n",
       "        vertical-align: top;\n",
       "    }\n",
       "\n",
       "    .dataframe thead th {\n",
       "        text-align: right;\n",
       "    }\n",
       "</style>\n",
       "<table border=\"1\" class=\"dataframe\">\n",
       "  <thead>\n",
       "    <tr style=\"text-align: right;\">\n",
       "      <th></th>\n",
       "      <th>HH.Re</th>\n",
       "      <th>HH.Im</th>\n",
       "      <th>HV.Re</th>\n",
       "      <th>HV.Im</th>\n",
       "      <th>VH.Re</th>\n",
       "      <th>VH.Im</th>\n",
       "      <th>VV.Re</th>\n",
       "      <th>VV.Im</th>\n",
       "      <th>class</th>\n",
       "    </tr>\n",
       "  </thead>\n",
       "  <tbody>\n",
       "    <tr>\n",
       "      <th>0</th>\n",
       "      <td>0.956940</td>\n",
       "      <td>0.185970</td>\n",
       "      <td>0.033606</td>\n",
       "      <td>-0.024850</td>\n",
       "      <td>-0.03361</td>\n",
       "      <td>0.024850</td>\n",
       "      <td>-0.99575</td>\n",
       "      <td>-0.15728</td>\n",
       "      <td>1</td>\n",
       "    </tr>\n",
       "    <tr>\n",
       "      <th>1</th>\n",
       "      <td>0.877020</td>\n",
       "      <td>0.261629</td>\n",
       "      <td>0.040545</td>\n",
       "      <td>-0.015380</td>\n",
       "      <td>-0.04055</td>\n",
       "      <td>0.015376</td>\n",
       "      <td>-0.91998</td>\n",
       "      <td>-0.24330</td>\n",
       "      <td>1</td>\n",
       "    </tr>\n",
       "    <tr>\n",
       "      <th>2</th>\n",
       "      <td>0.783459</td>\n",
       "      <td>0.324072</td>\n",
       "      <td>0.044947</td>\n",
       "      <td>-0.004260</td>\n",
       "      <td>-0.04495</td>\n",
       "      <td>0.004258</td>\n",
       "      <td>-0.82781</td>\n",
       "      <td>-0.31676</td>\n",
       "      <td>1</td>\n",
       "    </tr>\n",
       "    <tr>\n",
       "      <th>3</th>\n",
       "      <td>0.681292</td>\n",
       "      <td>0.372362</td>\n",
       "      <td>0.043603</td>\n",
       "      <td>0.005807</td>\n",
       "      <td>-0.04360</td>\n",
       "      <td>-0.005810</td>\n",
       "      <td>-0.72802</td>\n",
       "      <td>-0.37866</td>\n",
       "      <td>1</td>\n",
       "    </tr>\n",
       "    <tr>\n",
       "      <th>4</th>\n",
       "      <td>0.571329</td>\n",
       "      <td>0.403099</td>\n",
       "      <td>0.042011</td>\n",
       "      <td>0.018000</td>\n",
       "      <td>-0.04201</td>\n",
       "      <td>-0.018000</td>\n",
       "      <td>-0.61354</td>\n",
       "      <td>-0.41926</td>\n",
       "      <td>1</td>\n",
       "    </tr>\n",
       "  </tbody>\n",
       "</table>\n",
       "</div>"
      ],
      "text/plain": [
       "      HH.Re     HH.Im     HV.Re     HV.Im    VH.Re     VH.Im    VV.Re  \\\n",
       "0  0.956940  0.185970  0.033606 -0.024850 -0.03361  0.024850 -0.99575   \n",
       "1  0.877020  0.261629  0.040545 -0.015380 -0.04055  0.015376 -0.91998   \n",
       "2  0.783459  0.324072  0.044947 -0.004260 -0.04495  0.004258 -0.82781   \n",
       "3  0.681292  0.372362  0.043603  0.005807 -0.04360 -0.005810 -0.72802   \n",
       "4  0.571329  0.403099  0.042011  0.018000 -0.04201 -0.018000 -0.61354   \n",
       "\n",
       "     VV.Im  class  \n",
       "0 -0.15728      1  \n",
       "1 -0.24330      1  \n",
       "2 -0.31676      1  \n",
       "3 -0.37866      1  \n",
       "4 -0.41926      1  "
      ]
     },
     "execution_count": 2,
     "metadata": {},
     "output_type": "execute_result"
    }
   ],
   "source": [
    "cone_data = pd.read_csv('cone.csv', delimiter=r\"\\s+\")\n",
    "cone_data = cone_data.drop(columns=['arg'])\n",
    "cylinder_data = pd.read_csv('cylinder.csv', delimiter=r\"\\s+\")\n",
    "cylinder_data = cylinder_data.drop(columns=['arg'])\n",
    "\n",
    "cone_target = np.ones((91, 1), dtype=int)\n",
    "cylinder_target = cone_target + 1\n",
    "target = np.concatenate((cone_target, cylinder_target))\n",
    "union_data = pd.concat([cone_data, cylinder_data])\n",
    "union_data.insert(loc=union_data.shape[1], column=\"class\", value=target)\n",
    "\n",
    "union_data.head()"
   ]
  },
  {
   "cell_type": "code",
   "execution_count": 69,
   "metadata": {},
   "outputs": [],
   "source": [
    "X = union_data.drop(columns=['class'])\n",
    "y = union_data['class']"
   ]
  },
  {
   "cell_type": "code",
   "execution_count": 95,
   "metadata": {},
   "outputs": [],
   "source": [
    "from sklearn.metrics import f1_score, accuracy_score\n",
    "from sklearn.model_selection import train_test_split\n",
    "from sklearn.svm import SVC\n",
    "from sklearn.model_selection import GridSearchCV\n",
    "from sklearn.decomposition import KernelPCA"
   ]
  },
  {
   "cell_type": "code",
   "execution_count": 84,
   "metadata": {},
   "outputs": [],
   "source": [
    "X_train, X_test, y_train, y_test = train_test_split(X, y, test_size=0.3, random_state=42, shuffle=True)"
   ]
  },
  {
   "cell_type": "code",
   "execution_count": 85,
   "metadata": {},
   "outputs": [
    {
     "name": "stdout",
     "output_type": "stream",
     "text": [
      "Accuracy: 0.71\n"
     ]
    }
   ],
   "source": [
    "# Обучим SVM на непреобразованных данных \n",
    "\n",
    "from sklearn.svm import SVC\n",
    "\n",
    "svm = SVC(kernel='linear')\n",
    "svm.fit(X_train, y_train)\n",
    "predictions = svm.predict(X_test)\n",
    "\n",
    "print('Accuracy: {:.2f}'.format(accuracy_score(y_true=y_test, y_pred=predictions)))\n"
   ]
  },
  {
   "cell_type": "code",
   "execution_count": 93,
   "metadata": {},
   "outputs": [
    {
     "name": "stdout",
     "output_type": "stream",
     "text": [
      "The best accuracy : 0.787\n",
      "The best params: C = 38.7, kernel = rbf\n"
     ]
    }
   ],
   "source": [
    "svm = SVC()\n",
    "\n",
    "params = {'kernel': ['poly', 'rbf', 'sigmoid'], 'C': np.linspace(0.1, 100, 1000)}\n",
    "gc = GridSearchCV(estimator=svm, param_grid=params, scoring='accuracy', cv=5)\n",
    "\n",
    "gc.fit(X_train, y_train)\n",
    "\n",
    "print('The best accuracy : {:.3f}'.format(gc.best_score_))\n",
    "print('The best params: C = {:.1f}, kernel = {:}'.format(gc.best_params_['C'], gc.best_params_['kernel']))"
   ]
  },
  {
   "cell_type": "code",
   "execution_count": 94,
   "metadata": {},
   "outputs": [
    {
     "name": "stdout",
     "output_type": "stream",
     "text": [
      "Accuracy: 0.80\n"
     ]
    }
   ],
   "source": [
    "svm = SVC(kernel='rbf', C=38)\n",
    "\n",
    "svm.fit(X_train, y_train)\n",
    "\n",
    "predictions = svm.predict(X_test)\n",
    "print('Accuracy: {:.2f}'.format(accuracy_score(y_true=y_test, y_pred=predictions)))"
   ]
  },
  {
   "cell_type": "code",
   "execution_count": 141,
   "metadata": {},
   "outputs": [],
   "source": [
    "# Преобразуем данные \n",
    "\n",
    "kpca = KernelPCA(kernel='rbf', gamma=1000)\n",
    "X_train_kpca = kpca.fit_transform(X_train)\n",
    "X_test_kpca = kpca.transform(X_test)"
   ]
  },
  {
   "cell_type": "code",
   "execution_count": 142,
   "metadata": {},
   "outputs": [
    {
     "name": "stdout",
     "output_type": "stream",
     "text": [
      "Accuracy: 0.73\n"
     ]
    }
   ],
   "source": [
    "svm = SVC(kernel='linear')\n",
    "svm.fit(X_train_kpca, y_train)\n",
    "predictions = svm.predict(X_test_kpca)\n",
    "\n",
    "print('Accuracy: {:.2f}'.format(accuracy_score(y_true=y_test, y_pred=predictions)))\n",
    "\n"
   ]
  },
  {
   "cell_type": "code",
   "execution_count": 148,
   "metadata": {},
   "outputs": [
    {
     "name": "stdout",
     "output_type": "stream",
     "text": [
      "The best accuracy : 0.858\n",
      "The best params: C = 67.3, kernel = rbf\n"
     ]
    }
   ],
   "source": [
    "svm = SVC()\n",
    "\n",
    "params = {'kernel': ['poly', 'rbf', 'sigmoid'], 'C': np.linspace(0.1, 100, 1000)}\n",
    "gc = GridSearchCV(estimator=svm, param_grid=params, scoring='accuracy', cv=5)\n",
    "\n",
    "gc.fit(X_train, y_train)\n",
    "\n",
    "print('The best accuracy : {:.3f}'.format(gc.best_score_))\n",
    "print('The best params: C = {:.1f}, kernel = {:}'.format(gc.best_params_['C'], gc.best_params_['kernel']))"
   ]
  },
  {
   "cell_type": "code",
   "execution_count": 162,
   "metadata": {},
   "outputs": [
    {
     "name": "stdout",
     "output_type": "stream",
     "text": [
      "Accuracy: 0.73\n"
     ]
    }
   ],
   "source": [
    "svm = SVC(kernel='rbf', C=67.3)\n",
    "\n",
    "svm.fit(X_train_kpca, y_train)\n",
    "\n",
    "predictions = svm.predict(X_test_kpca)\n",
    "print('Accuracy: {:.2f}'.format(accuracy_score(y_true=y_test, y_pred=predictions)))"
   ]
  },
  {
   "cell_type": "code",
   "execution_count": null,
   "metadata": {},
   "outputs": [],
   "source": []
  }
 ],
 "metadata": {
  "kernelspec": {
   "display_name": "Python 3",
   "language": "python",
   "name": "python3"
  },
  "language_info": {
   "codemirror_mode": {
    "name": "ipython",
    "version": 3
   },
   "file_extension": ".py",
   "mimetype": "text/x-python",
   "name": "python",
   "nbconvert_exporter": "python",
   "pygments_lexer": "ipython3",
   "version": "3.6.5"
  }
 },
 "nbformat": 4,
 "nbformat_minor": 2
}
