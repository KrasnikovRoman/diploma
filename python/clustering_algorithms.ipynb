{
 "cells": [
  {
   "cell_type": "markdown",
   "metadata": {},
   "source": [
    "# <span style=\"color:#186678\">Comparison of clustering algorithms by example Iris Dataset</span>"
   ]
  },
  {
   "cell_type": "markdown",
   "metadata": {},
   "source": [
    "# <span style=\"color:#186678\">Summary</span>\n",
    "## <span style=\"color:#186678\">Эвристические графовые алгоритмы</span>\n",
    "### <span style=\"color:#186678\">1. Алгоритм выделения связных компонент</span>\n",
    "   * **<span style=\"color:#186678\">Main idea</span>** Выборка представляется в виде графа. Вершины графа - объекты выборки, рёбра - попарные расстояния между объектами $\\rho_{ij} = \\rho(x_i, y_j)$. Задаётся параметр $R$ и в графе удаляются все рёбра $(i, j)$, для которых $\\rho_{ij} > R$. Соединёнными остаются только наиболее близкие пары объектов. Идея алгоритма заключается в том, чтобы подобрать такое значение $R ∈ [min\\rho_{ij},max\\rho_{ij}]$, при котором граф развалится на несколько связных компонент. Найденные связные компоненты — и есть кластеры.\n",
    "   * **<span style=\"color:#186678\">Input data</span>**\n",
    "   * **<span style=\"color:#186678\">Advantages</span>**\n",
    "      * *Наглядность*\n",
    "      * *Относительная простота реализации*\n",
    "      * *Возможность вносить резличные усовершенствования, опираясь на простые геометрические соображения*\n",
    "   * **<span style=\"color:#186678\">Disadvantages</span>**\n",
    "      * *Ограниченная применимость*. Наиболее подходит для выделения кластеров типа сгущений или лент. Наличие разреженного фона или \"узких перемычек\" между кластерами приводит к неадекватной кластеризации.\n",
    "      * *Плохая управляемость числом кластеров*. Для многих приложений удобнее задавать не параметр $R$, а число кластеров или некоторый порог \"чёткости кластеризации\". Управлять числом кластеров с помощью параметра $R$ довольно затруднительно. Приходится многократно режать задачу при разных $R$, что отрицательно сказывается на временных затратах.\n",
    "   * **<span style=\"color:#186678\">Python library</span>**\n",
    "   \n",
    "### <span style=\"color:#186678\">2. Алгоритм кратчайшего незамкнутого пути(КНП)</span>\n",
    "   * **<span style=\"color:#186678\">Main idea</span>** Строится граф из $l-1$ рёбер так, чтобы они соединяли $l$ точек и обладали минимальной суммарной длиной. \n",
    "   * **<span style=\"color:#186678\">Input data</span>** $K$ - число кластеров(можно определять графически)\n",
    "   * **<span style=\"color:#186678\">Advantages</span>** \n",
    "      * *Простота*\n",
    "   * **<span style=\"color:#186678\">Disadvantages</span>**\n",
    "      * *Ограниченная применимость*. Наличие разреженного фона или перемычек приводит к неадекватной кластеризации.\n",
    "      * *Высокая трудоёмкость*. Для построения КНП требуется $O(l^3)$ операций.\n",
    "   * **<span style=\"color:#186678\">Python library</span>**\n",
    "### <span style=\"color:#186678\">3. FOREL(Formal element)</span>\n",
    "   * **<span style=\"color:#186678\">Main idea</span>** Пусть задана некоторая точка $x_0 \\in X$ и параметр $R$. Выделяются все точки выборки $x_i \\in X^l$, попадающие внутрь сферы $\\rho(x_i, x_0) \\le R$, и точка $x_0$ переносится в центр тяжести выделенных точек. Эта процедура повторяется до тех пор, пока состав выделенных точек, а значит и положение центра, не перестанет меняться. Доказано, что эта процедура сходится за конечное число шагов. При этом сфера перемещается в место локального сгущения точек. Центр сферы $x_0$ в общем случае не является объектом выборки, потому и называется формальным элементом.\n",
    "   * **<span style=\"color:#186678\">Speed</span>** Вычисление центра - $O(l)$ операций для линейного пространства объектов $X^l$, $O(l^2)$ операция для метрического пространства. Можно ускорять до $O(1)$ и $O(l)$ соответственно. $l$ - число точек.\n",
    "   * **<span style=\"color:#186678\">Advantages</span>** \n",
    "      * *Возможность описывать кластеры произвольной геометрической формы*. Варьируя параметр $R$, можно получать кла- стеризации различной степени детальности. Если кластеры близки по форме к шарам, можно сделать $R$ достаточно большим. Для описания кластеров более сложной формы следует уменьшать $R$.\n",
    "   * **<span style=\"color:#186678\">Disadvantages</span>** \n",
    "      * *Чувствительность к выбору начального положения $x_0$ для каждого нового кластера*. \n",
    "      \n",
    "## <span style=\"color:#186678\">K-means</span>\n",
    "## <span style=\"color:#186678\">Иерархическая кластеризация</span>\n",
    "## <span style=\"color:#186678\">Affinity Propagation</span>\n",
    "## <span style=\"color:#186678\">Сети Кохонена</span>\n",
    "## <span style=\"color:#186678\">MiniBatchKMeans</span>\n",
    "## <span style=\"color:#186678\">MeanShift</span>\n",
    "## <span style=\"color:#186678\">Spectral Clustering</span>\n",
    "## <span style=\"color:#186678\">Ward</span>\n",
    "## <span style=\"color:#186678\">Agglomerative Clustering</span>\n",
    "## <span style=\"color:#186678\">DBSCAN</span>\n",
    "## <span style=\"color:#186678\">Birch</span>\n",
    "![alasdg](alg.png)"
   ]
  },
  {
   "cell_type": "code",
   "execution_count": 11,
   "metadata": {},
   "outputs": [
    {
     "name": "stdout",
     "output_type": "stream",
     "text": [
      "CPU times: user 2 µs, sys: 1e+03 ns, total: 3 µs\n",
      "Wall time: 7.15 µs\n"
     ]
    }
   ],
   "source": [
    "import matplotlib.pyplot as plt\n",
    "from sklearn import datasets\n",
    "from sklearn.cluster import KMeans\n",
    "from sklearn.manifold import TSNE\n",
    "import warnings\n",
    "from mpl_toolkits.mplot3d import Axes3D\n",
    "\n",
    "warnings.filterwarnings(\"ignore\", message=\"numpy.dtype size changed\")\n",
    "warnings.filterwarnings(\"ignore\", message=\"numpy.ufunc size changed\")"
   ]
  },
  {
   "cell_type": "code",
   "execution_count": 12,
   "metadata": {
    "scrolled": true
   },
   "outputs": [
    {
     "data": {
      "image/png": "[encoded data removed]",
      "text/plain": [
       "<Figure size 432x288 with 1 Axes>"
      ]
     },
     "metadata": {},
     "output_type": "display_data"
    }
   ],
   "source": [
    "dataset = datasets.load_iris()\n",
    "\n",
    "x = dataset.data[:, 0]\n",
    "y = dataset.data[:, 1]\n",
    "\n",
    "plt.xlabel(dataset.feature_names[0])\n",
    "plt.ylabel(dataset.feature_names[1])\n",
    "plt.scatter(x, y)\n",
    "plt.show()"
   ]
  },
  {
   "cell_type": "markdown",
   "metadata": {},
   "source": [
    "## <span style=\"color:#186678\">K-means</span>\n"
   ]
  },
  {
   "cell_type": "code",
   "execution_count": 13,
   "metadata": {},
   "outputs": [
    {
     "name": "stdout",
     "output_type": "stream",
     "text": [
      "[1]\n",
      "[1 1 1 1 1 1 1 1 1 1 1 1 1 1 1 1 1 1 1 1 1 1 1 1 1 1 1 1 1 1 1 1 1 1 1 1 1\n",
      " 1 1 1 1 1 1 1 1 1 1 1 1 1 2 2 0 2 2 2 2 2 2 2 2 2 2 2 2 2 2 2 2 2 2 2 2 2\n",
      " 2 2 2 0 2 2 2 2 2 2 2 2 2 2 2 2 2 2 2 2 2 2 2 2 2 2 0 2 0 0 0 0 2 0 0 0 0\n",
      " 0 0 2 2 0 0 0 0 2 0 2 0 2 0 0 2 2 0 0 0 0 0 2 0 0 0 0 2 0 0 0 2 0 0 0 2 0\n",
      " 0 2]\n"
     ]
    }
   ],
   "source": [
    "model = KMeans(n_clusters=3)\n",
    "model.fit(dataset.data)\n",
    "\n",
    "predicted_label = model.predict([[7.2, 3.5, 0.8, 1.6]])\n",
    "all_predictions = model.predict(dataset.data)\n",
    "\n",
    "print(predicted_label)\n",
    "print(all_predictions)"
   ]
  },
  {
   "cell_type": "markdown",
   "metadata": {},
   "source": [
    "## <span style=\"color:#186678\">T-SNE</span>\n"
   ]
  },
  {
   "cell_type": "code",
   "execution_count": 21,
   "metadata": {
    "scrolled": false
   },
   "outputs": [
    {
     "name": "stdout",
     "output_type": "stream",
     "text": [
      "CPU times: user 5 µs, sys: 1 µs, total: 6 µs\n",
      "Wall time: 11.2 µs\n"
     ]
    }
   ],
   "source": [
    "model = TSNE(learning_rate=100, n_components=3)\n",
    "transformed = model.fit_transform(dataset.data)\n"
   ]
  },
  {
   "cell_type": "code",
   "execution_count": 29,
   "metadata": {},
   "outputs": [
    {
     "name": "stdout",
     "output_type": "stream",
     "text": [
      "/bin/sh: -c: line 0: syntax error near unexpected token `alg.png'\r\n",
      "/bin/sh: -c: line 0: `[alasdg](alg.png)'\r\n"
     ]
    }
   ],
   "source": []
  },
  {
   "cell_type": "code",
   "execution_count": null,
   "metadata": {},
   "outputs": [],
   "source": []
  }
 ],
 "metadata": {
  "kernelspec": {
   "display_name": "Python 3",
   "language": "python",
   "name": "python3"
  },
  "language_info": {
   "codemirror_mode": {
    "name": "ipython",
    "version": 3
   },
   "file_extension": ".py",
   "mimetype": "text/x-python",
   "name": "python",
   "nbconvert_exporter": "python",
   "pygments_lexer": "ipython3",
   "version": "3.6.5"
  }
 },
 "nbformat": 4,
 "nbformat_minor": 2
}
